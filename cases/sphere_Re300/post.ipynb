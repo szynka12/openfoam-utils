{
 "metadata": {
  "language_info": {
   "codemirror_mode": {
    "name": "ipython",
    "version": 3
   },
   "file_extension": ".py",
   "mimetype": "text/x-python",
   "name": "python",
   "nbconvert_exporter": "python",
   "pygments_lexer": "ipython3",
   "version": "3.8.6-final"
  },
  "orig_nbformat": 2,
  "kernelspec": {
   "name": "python3",
   "display_name": "Python 3.8.6 64-bit",
   "metadata": {
    "interpreter": {
     "hash": "31f2aee4e71d21fbe5cf8b01ff0e069b9275f58929596ceb00d14d90e3e16cd6"
    }
   }
  }
 },
 "nbformat": 4,
 "nbformat_minor": 2,
 "cells": [
  {
   "cell_type": "code",
   "execution_count": null,
   "metadata": {},
   "outputs": [],
   "source": [
    "import os\n",
    "import numpy as np\n",
    "import matplotlib.pyplot as plt\n",
    "import statistics as st\n",
    "from scipy.interpolate import interp1d\n"
   ]
  },
  {
   "cell_type": "code",
   "execution_count": null,
   "metadata": {},
   "outputs": [],
   "source": [
    "def last_time():\n",
    "    stream = os.popen(\"foamListTimes -latestTime\")\n",
    "    return stream.read().rstrip()"
   ]
  },
  {
   "cell_type": "code",
   "execution_count": null,
   "metadata": {},
   "outputs": [],
   "source": [
    "class Forces:\n",
    "    def __init__(self, filename_):\n",
    "        self.filename = filename_\n",
    "        self.data = np.loadtxt(self.filename, delimiter=\"\\t\")\n",
    "\n",
    "    def t(self, t_star = 1):\n",
    "        return self.data[:, 0]/t_star \n",
    "\n",
    "    def Cd(self):\n",
    "        return self.data[:,1]\n",
    "\n",
    "    def is_time_uniform(self):\n",
    "        return st.stdev(self.t()) < 1e-10\n",
    "\n",
    "    def reinterpolate(self):\n",
    "        t_int = np.linspace(self.t()[0], self.t()[-1], \n",
    "                num=len(self.t()), endpoint=True)\n",
    "\n",
    "        dt = t_int[1] - t_int[0]\n",
    "\n",
    "        return t_int, dt, interp1d(self.t(), self.Cd(), kind='cubic') \n",
    "\n",
    "class AxisPlot:\n",
    "    def __init__(self, filename_, names):\n",
    "        self.filename = filename_\n",
    "        self.data = np.loadtxt(self.filename, delimiter=\",\")\n",
    "        self.names = names\n",
    "\n",
    "    def x(self):\n",
    "        return self.data[:,0]\n",
    "    \n",
    "    def by_name(self, name):\n",
    "        return self.c(self.names.index(name)+1)\n",
    "\n",
    "    def c(self, num):\n",
    "        return self.data[:,num]"
   ]
  },
  {
   "cell_type": "code",
   "execution_count": null,
   "metadata": {},
   "outputs": [],
   "source": [
    "# Case data\n",
    "Re = 300\n",
    "ff_time = 29.5"
   ]
  },
  {
   "cell_type": "code",
   "execution_count": null,
   "metadata": {},
   "outputs": [],
   "source": [
    "# Reference data\n",
    "cd_paper = np.loadtxt(\"cd.csv\", delimiter=\",\")\n",
    "UMean_axis = np.loadtxt(\"UMean_axis.csv\", delimiter=\",\")\n",
    "UPrime_axis = np.loadtxt(\"UPrime_axis.csv\", delimiter=\",\")"
   ]
  },
  {
   "cell_type": "code",
   "execution_count": null,
   "metadata": {},
   "outputs": [],
   "source": [
    "# File names for future writing\n",
    "\n",
    "cd_plot = \"Cd.pdf\""
   ]
  },
  {
   "cell_type": "code",
   "execution_count": null,
   "metadata": {},
   "outputs": [],
   "source": [
    "# Load and print forces\n",
    "forces_coefs = \"postProcessing/forceCoeffs1/0/coefficient.dat\"\n",
    "forces = Forces(forces_coefs)\n",
    "\n",
    "f = plt.figure()\n",
    "plt.ylim([0.66, 0.675])\n",
    "plt.xlim([1, 10])\n",
    "plt.plot(forces.t(ff_time), forces.Cd(), \n",
    "        (cd_paper[:,0] - 4.27)/ff_time, cd_paper[:,1])\n",
    "\n",
    "plt.ylabel(r\"$C_d$\")\n",
    "plt.xlabel(r\"$t/T_{ff}$\")\n",
    "f.show()\n"
   ]
  },
  {
   "cell_type": "code",
   "execution_count": null,
   "metadata": {},
   "outputs": [],
   "source": [
    "# Compute the FFT of the forces\n",
    "t_n , dt, interpolator = forces.reinterpolate()\n",
    "\n",
    "cd_n = interpolator(t_n)\n",
    "\n",
    "#get only the forces after 5 flolw through time\n",
    "cd_n = cd_n[t_n > 5*ff_time]\n",
    "t_n = t_n[t_n > 5*ff_time]\n",
    "N = len(cd_n)\n",
    "\n",
    "freq = np.fft.rfftfreq(N, dt)\n",
    "\n",
    "# second power for the power spectrum\n",
    "pow_Cd = np.abs(np.fft.rfft(cd_n, N) / N)**2 \n",
    "\n",
    "# strip the zeroth mode (constant)\n",
    "pow_Cd = pow_Cd[1:]\n",
    "freq = freq[1:]\n",
    "\n",
    "max_value = np.amax(pow_Cd)\n",
    "max_freq = freq[np.where(pow_Cd == max_value)]\n",
    "\n",
    "f = plt.figure()\n",
    "plt.plot(freq, pow_Cd)\n",
    "plt.xlim([0,1])\n",
    "plt.annotate(\"$St = {:.3f}$\".format(max_freq[0]), (max_freq, max_value))\n",
    "plt.xlabel(\"$St$\")\n",
    "f.show()\n",
    "\n",
    "\n",
    "print(\"Strouhal number corresponding to the strongest mode: {}\".format(max_freq[0]))\n",
    "print(\"Paper has St = 0.136\")\n",
    "\n"
   ]
  },
  {
   "cell_type": "code",
   "execution_count": null,
   "metadata": {},
   "outputs": [],
   "source": [
    "ax = AxisPlot(\"postProcessing/ax_sample/344.999999999758757/axis_U_UMean_UPrime.csv\",\n",
    "    [\"u_x\", \"u_y\", \"u_z\", \"U_x\", \"U_y\", \"U_z\", \"u'_x\", \"u'_y\", \"u'_z\"])\n",
    "\n",
    "f = plt.figure()\n",
    "plt.plot(ax.x(), ax.by_name(\"U_x\"), label='WALE. current')\n",
    "plt.plot(UMean_axis[:,0], UMean_axis[:,1], label = \"Reference\")\n",
    "plt.ylabel(\"$u/U_0$\")\n",
    "plt.xlabel(\"$x/D$\")\n",
    "plt.legend()\n",
    "plt.show()\n",
    "\n",
    "ax = AxisPlot(\"postProcessing/ax_sample/344.999999999758757/axis_UPrime2Mean.csv\",\n",
    "    [\"u'u'\", \"v'v'\", \"w'w'\", \"u'v'\", \"u'w'\", \"v'w'\"])\n",
    "\n",
    "f = plt.figure()\n",
    "plt.plot(ax.x(), np.sqrt(ax.by_name(\"u'u'\")), label='WALE. current')\n",
    "plt.plot(UPrime_axis[:,0], UPrime_axis[:,1], label = \"Reference\")\n",
    "plt.ylabel(\"$u'/U_0$\")\n",
    "plt.xlabel(\"$x/D$\")\n",
    "plt.legend()\n",
    "plt.show()"
   ]
  },
  {
   "cell_type": "code",
   "execution_count": null,
   "metadata": {},
   "outputs": [],
   "source": []
  }
 ]
}